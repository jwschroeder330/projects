{
 "cells": [
  {
   "cell_type": "markdown",
   "metadata": {},
   "source": [
    "# What is the True Normal Human Body Temperature? \n",
    "\n",
    "#### Background\n",
    "\n",
    "The mean normal body temperature was held to be 37$^{\\circ}$C or 98.6$^{\\circ}$F for more than 120 years since it was first conceptualized and reported by Carl Wunderlich in a famous 1868 book. But, is this value statistically correct?"
   ]
  },
  {
   "cell_type": "markdown",
   "metadata": {},
   "source": [
    "<h3>Exercises</h3>\n",
    "\n",
    "<p>In this exercise, you will analyze a dataset of human body temperatures and employ the concepts of hypothesis testing, confidence intervals, and statistical significance.</p>\n",
    "\n",
    "<p>Answer the following questions <b>in this notebook below and submit to your Github account</b>.</p> \n",
    "\n",
    "<ol>\n",
    "<li>  Is the distribution of body temperatures normal? \n",
    "    <ul>\n",
    "    <li> Although this is not a requirement for CLT to hold (read CLT carefully), it gives us some peace of mind that the population may also be normally distributed if we assume that this sample is representative of the population.\n",
    "    </ul>\n",
    "<li>  Is the sample size large? Are the observations independent?\n",
    "    <ul>\n",
    "    <li> Remember that this is a condition for the CLT, and hence the statistical tests we are using, to apply.\n",
    "    </ul>\n",
    "<li>  Is the true population mean really 98.6 degrees F?\n",
    "    <ul>\n",
    "    <li> Would you use a one-sample or two-sample test? Why?\n",
    "    <li> In this situation, is it appropriate to use the $t$ or $z$ statistic? \n",
    "    <li> Now try using the other test. How is the result be different? Why?\n",
    "    </ul>\n",
    "<li>  Draw a small sample of size 10 from the data and repeat both tests. \n",
    "    <ul>\n",
    "    <li> Which one is the correct one to use? \n",
    "    <li> What do you notice? What does this tell you about the difference in application of the $t$ and $z$ statistic?\n",
    "    </ul>\n",
    "<li>  At what temperature should we consider someone's temperature to be \"abnormal\"?\n",
    "    <ul>\n",
    "    <li> Start by computing the margin of error and confidence interval.\n",
    "    </ul>\n",
    "<li>  Is there a significant difference between males and females in normal temperature?\n",
    "    <ul>\n",
    "    <li> What test did you use and why?\n",
    "    <li> Write a story with your conclusion in the context of the original problem.\n",
    "    </ul>\n",
    "</ol>\n",
    "\n",
    "You can include written notes in notebook cells using Markdown: \n",
    "   - In the control panel at the top, choose Cell > Cell Type > Markdown\n",
    "   - Markdown syntax: http://nestacms.com/docs/creating-content/markdown-cheat-sheet\n",
    "\n",
    "#### Resources\n",
    "\n",
    "+ Information and data sources: http://www.amstat.org/publications/jse/datasets/normtemp.txt, http://www.amstat.org/publications/jse/jse_data_archive.htm\n",
    "+ Markdown syntax: http://nestacms.com/docs/creating-content/markdown-cheat-sheet\n",
    "\n",
    "****"
   ]
  },
  {
   "cell_type": "code",
   "execution_count": 83,
   "metadata": {},
   "outputs": [
    {
     "name": "stdout",
     "output_type": "stream",
     "text": [
      "   temperature gender  heart_rate\n",
      "0         99.3      F        68.0\n",
      "1         98.4      F        81.0\n",
      "2         97.8      M        73.0\n",
      "3         99.2      F        66.0\n",
      "4         98.0      F        73.0\n"
     ]
    }
   ],
   "source": [
    "from matplotlib import pyplot as plt\n",
    "import pandas as pd\n",
    "import numpy as np\n",
    "import scipy.stats as stats\n",
    "import math\n",
    "\n",
    "df = pd.read_csv('/Users/jacobschroeder/anaconda3/projects/human_temp/data/human_body_temperature.csv')\n",
    "print(df.head())"
   ]
  },
  {
   "cell_type": "markdown",
   "metadata": {},
   "source": [
    "### 1. Is the distribution of body temperatures normal?\n",
    "\n",
    "Although this is not a requirement for CLT to hold (read CLT carefully), it gives us some peace of mind that the population may also be normally distributed if we assume that this sample is representative of the population."
   ]
  },
  {
   "cell_type": "code",
   "execution_count": 84,
   "metadata": {},
   "outputs": [
    {
     "data": {
      "image/png": "[encoded data removed]",
      "text/plain": [
       "<matplotlib.figure.Figure at 0x1a1bc1c908>"
      ]
     },
     "metadata": {},
     "output_type": "display_data"
    },
    {
     "data": {
      "image/png": "[encoded data removed]",
      "text/plain": [
       "<matplotlib.figure.Figure at 0x1a1bc3b550>"
      ]
     },
     "metadata": {},
     "output_type": "display_data"
    },
    {
     "name": "stdout",
     "output_type": "stream",
     "text": [
      "Mean temperature for all subjects: 98.24923076923078\n"
     ]
    }
   ],
   "source": [
    "# plot the histogram and a normal distribution, for comparison\n",
    "\n",
    "# histogram - normed for comparison\n",
    "plt.hist(df['temperature'], facecolor='blue', alpha=0.5, normed=True)\n",
    "\n",
    "# normal distribution overlay\n",
    "samples_std3 = np.random.normal(loc=np.mean(df['temperature']), scale=3, size=1000000)\n",
    "plt.hist(samples_std3, bins=100, histtype='step', normed=True)\n",
    "plt.xlabel('Temperature Degrees Fahrenheit')\n",
    "plt.ylabel('Percentage of Sample')\n",
    "\n",
    "# show plots\n",
    "plt.show()\n",
    "\n",
    "# raw histogram\n",
    "plt.hist(df['temperature'], facecolor='blue', alpha=0.5)\n",
    "plt.xlabel('Temperature Degrees Fahrenheit')\n",
    "plt.ylabel('Number of Persons Evaluated')\n",
    "plt.show()\n",
    "\n",
    "# print the mean temperature, for reference\n",
    "print('Mean temperature for all subjects: {}'.format(np.mean(df['temperature'])))"
   ]
  },
  {
   "cell_type": "markdown",
   "metadata": {},
   "source": [
    "#### No, the sample is not normally distributed\n",
    "\n",
    "The distribution is skewed to the left in both graphics. Note the normal distribution overlay in the first graphic.\n",
    "\n",
    "-------------------------------------------------------------------------------------------"
   ]
  },
  {
   "cell_type": "markdown",
   "metadata": {},
   "source": [
    "### 2a. Is the sample size large?\n",
    "\n",
    "Remember that this is a condition for the CLT, and hence the statistical tests we are using, to apply."
   ]
  },
  {
   "cell_type": "code",
   "execution_count": 85,
   "metadata": {},
   "outputs": [
    {
     "name": "stdout",
     "output_type": "stream",
     "text": [
      "The data contains 130 entries\n"
     ]
    }
   ],
   "source": [
    "# compute the sample size\n",
    "entries, columns = df.shape\n",
    "print('The data contains {} entries'.format(entries))"
   ]
  },
  {
   "cell_type": "markdown",
   "metadata": {},
   "source": [
    "#### The sample is sufficiently large for CLT (n = 130)\n",
    "\n",
    "Recall that a normal distribution requires n >= 30."
   ]
  },
  {
   "cell_type": "markdown",
   "metadata": {},
   "source": [
    "### 2b. Are the observations independent?"
   ]
  },
  {
   "cell_type": "code",
   "execution_count": 86,
   "metadata": {},
   "outputs": [
    {
     "name": "stdout",
     "output_type": "stream",
     "text": [
      "Pearson correlation coefficient: 0.2536564027207643\n"
     ]
    }
   ],
   "source": [
    "# compute Pearson correlation coefficient between temperature and heart rate\n",
    "def pearson_r(x, y):\n",
    "    \"\"\"Compute Pearson correlation coefficient between two arrays.\"\"\"\n",
    "    # Compute correlation matrix: corr_mat\n",
    "    corr_mat = np.corrcoef(x,y)\n",
    "\n",
    "    # Return entry [0,1]\n",
    "    return corr_mat[0,1]\n",
    "\n",
    "print('Pearson correlation coefficient: {}'.format(pearson_r(df['temperature'], df['heart_rate'])))\n",
    "# hr_lin_reg = draw_bs_pairs(df['temperature'], df['heart_rate'], pearson_r, size=10000)"
   ]
  },
  {
   "cell_type": "markdown",
   "metadata": {},
   "source": [
    "#### Observations Are Not Independent\n",
    "##### Temperature and Heart Rate are positively correlated\n",
    "\n",
    "This infers that faster heart rates are associated with higher temperatures and vice versa\n",
    "\n",
    "--------------\n"
   ]
  },
  {
   "cell_type": "markdown",
   "metadata": {},
   "source": [
    "### 3. Is the true population mean really 98.6 degrees F?\n",
    "\n",
    "#### Would you use a one-sample or two-sample test? Why?\n",
    "\n",
    "I would use a two-sample test to compare the sample data against a second dataset adjusted to the population mean. This way, any variance within the data could be nullified, and the two datasets could be compared against each other. If the sample data and the shifted data carry a low corresponding p-value, then it is likely the real population mean is not 98.6.\n",
    "\n",
    "#### In this situation, is it appropriate to use the  t  or  z  statistic?\n",
    "\n",
    "In this example it would be more appropriate to conduct a t-test, since it allows us to determine whether a sample statistic differs significantly from the population statistic.\n",
    "\n",
    "#### Now try using the other test. How is the result be different? Why?\n",
    "\n",
    "See comparison of both tests, below:\n",
    "\n",
    "---------------------------------------------------------\n"
   ]
  },
  {
   "cell_type": "markdown",
   "metadata": {},
   "source": [
    "#### One-sample t-test"
   ]
  },
  {
   "cell_type": "code",
   "execution_count": 87,
   "metadata": {},
   "outputs": [
    {
     "name": "stdout",
     "output_type": "stream",
     "text": [
      "5% Confidence Interval : [ 98.11923077  98.37384615]\n",
      "1% Confidence Interval : [ 98.08153462  98.41385   ]\n",
      "P-Value: 0.0\n"
     ]
    }
   ],
   "source": [
    "# add functions for bootstrapping\n",
    "def bootstrap_replicate_1d(data, func):\n",
    "    \"\"\"Generate bootstrap data of 1D data.\"\"\"\n",
    "    bs_sample = np.random.choice(data, len(data))\n",
    "    return func(bs_sample)\n",
    "\n",
    "\n",
    "def draw_bs_reps(data, func, size=1):\n",
    "    \"\"\"Draw bootstrap replicates.\"\"\"\n",
    "\n",
    "    # Initialize array of replicates: bs_replicates\n",
    "    bs_replicates = np.empty(size)\n",
    "\n",
    "    # Generate replicates\n",
    "    for i in range(size):\n",
    "        bs_replicates[i] = bootstrap_replicate_1d(data, func)\n",
    "\n",
    "    return bs_replicates\n",
    "\n",
    "# run one-sample test\n",
    "hr_replicates = draw_bs_reps(df['temperature'], np.mean, size=10000)\n",
    "\n",
    "print('5% Confidence Interval : {}'.format(np.percentile(hr_replicates, [2.5, 97.5])))\n",
    "print('1% Confidence Interval : {}'.format(np.percentile(hr_replicates, [0.5, 99.5])))\n",
    "print('P-Value: {}'.format((sum(hr_replicates >= 98.6)/len(hr_replicates))))"
   ]
  },
  {
   "cell_type": "markdown",
   "metadata": {},
   "source": [
    "The one-sample t-test gives high statistical certainty that the sample mean temperature differs from the population mean temperature. We now check this assumption with a two-sample t-test.\n",
    "\n",
    "-------------------------\n",
    "\n",
    "#### Two-sample t-test"
   ]
  },
  {
   "cell_type": "code",
   "execution_count": 88,
   "metadata": {},
   "outputs": [
    {
     "name": "stdout",
     "output_type": "stream",
     "text": [
      "Compare the second sample to the population mean of 98.6\n",
      "5% Confidence Interval : [ 98.47461538  98.72307692]\n",
      "1% Confidence Interval : [ 98.43153846  98.76308077]\n",
      "P-Value: 0.4995\n",
      "--------------------------\n",
      "Comparing the two samples:\n",
      "P-Value: 0.0\n"
     ]
    }
   ],
   "source": [
    "# we shift the sample to reflect the population mean of 98.6\n",
    "hr_shifted = df['temperature'] - np.mean(df['temperature']) + 98.6\n",
    "\n",
    "# we run bootstrap replicate testing to get our confidence interval and p-value\n",
    "hr_replicates_two = draw_bs_reps(hr_shifted, np.mean, size=10000)\n",
    "\n",
    "print('Compare the second sample to the population mean of 98.6')\n",
    "print('5% Confidence Interval : {}'.format(np.percentile(hr_replicates_two, [2.5, 97.5])))\n",
    "print('1% Confidence Interval : {}'.format(np.percentile(hr_replicates_two, [0.5, 99.5])))\n",
    "print('P-Value: {}'.format((sum(hr_replicates_two <= 98.6)/len(hr_replicates_two))))\n",
    "print('--------------------------')\n",
    "\n",
    "print('Comparing the two samples:')\n",
    "print('P-Value: {}'.format((sum(hr_replicates >= hr_replicates_two)/len(hr_replicates_two))))"
   ]
  },
  {
   "cell_type": "markdown",
   "metadata": {},
   "source": [
    "As we expect, the second 'shifted' sample is statistically certain to generate the population mean of 98.6.\n",
    "\n",
    "In the second part of the output, we reject the null hypothesis that the sample is equal to the population. The p-value is far less than the %1 required for an aggressive confidence interval (99%).\n",
    "\n",
    "----------\n"
   ]
  },
  {
   "cell_type": "markdown",
   "metadata": {},
   "source": [
    "### 4. Draw a small sample of size 10 from the data and repeat both tests.\n",
    "\n",
    "Which one is the correct one to use?\n",
    "What do you notice? What does this tell you about the difference in application of the  t  and  z statistic?"
   ]
  },
  {
   "cell_type": "code",
   "execution_count": 89,
   "metadata": {},
   "outputs": [
    {
     "name": "stdout",
     "output_type": "stream",
     "text": [
      "One Sample:\n",
      "5% Confidence Interval : [ 98.32  99.14]\n",
      "1% Confidence Interval : [ 98.21     99.28005]\n",
      "P-Value: 0.7063\n",
      "Two Sample:\n",
      "P-Value: 0.421\n"
     ]
    }
   ],
   "source": [
    "# run one-sample test\n",
    "hr_sample_10 = np.random.choice(df['temperature'], size=10)\n",
    "hr_replicates = draw_bs_reps(hr_sample_10, np.mean, size=10000)\n",
    "print('One Sample:')\n",
    "print('5% Confidence Interval : {}'.format(np.percentile(hr_replicates, [2.5, 97.5])))\n",
    "print('1% Confidence Interval : {}'.format(np.percentile(hr_replicates, [0.5, 99.5])))\n",
    "print('P-Value: {}'.format((sum(hr_replicates >= 98.6)/len(hr_replicates))))\n",
    "\n",
    "# run two-sample test: second sample\n",
    "hr_shifted = df['temperature'] - np.mean(df['temperature']) + 98.6\n",
    "hr_sample_shifted_10 = np.random.choice(hr_shifted, size=10)\n",
    "hr_replicates_two = draw_bs_reps(hr_sample_shifted_10, np.mean, size=10000)\n",
    "print('Two Sample:')\n",
    "print('P-Value: {}'.format((sum(hr_replicates >= hr_replicates_two)/len(hr_replicates_two))))"
   ]
  },
  {
   "cell_type": "markdown",
   "metadata": {},
   "source": [
    "In this smaller sampling, we get less accurate measurements of center for both tests. This example suggests that the one-sample approach is more accurate when you have less data.\n",
    "\n",
    "----------\n"
   ]
  },
  {
   "cell_type": "markdown",
   "metadata": {},
   "source": [
    "### 5. At what point should we consider someone's temperature abnormal?"
   ]
  },
  {
   "cell_type": "code",
   "execution_count": 90,
   "metadata": {},
   "outputs": [
    {
     "name": "stdout",
     "output_type": "stream",
     "text": [
      "1% Confidence Interval : [ 98.30076923  99.31076923]\n"
     ]
    }
   ],
   "source": [
    "print('1% Confidence Interval : {}'.format(np.percentile(hr_replicates_two, [0.5, 99.5])))"
   ]
  },
  {
   "cell_type": "markdown",
   "metadata": {},
   "source": [
    "Note the %1 confidence interval from the second 'shifted' sample from step three. \n",
    "\n",
    "Given the population mean of 98.6 is inherit in this sample, we can use it's confidence interval to make judgements pertaining to temperature abnormalities.\n",
    "\n",
    "We can say with high confidence (99% interval) that a person's temperature is abnormal if they fall below 98.3 or rise above 99.3.\n",
    "\n",
    "---------\n"
   ]
  },
  {
   "cell_type": "markdown",
   "metadata": {},
   "source": [
    "### 6. Is there a significant difference between males and females in normal temperature?\n",
    "What test did you use and why?\n",
    "Write a story with your conclusion in the context of the original problem."
   ]
  },
  {
   "cell_type": "code",
   "execution_count": 91,
   "metadata": {},
   "outputs": [
    {
     "name": "stdout",
     "output_type": "stream",
     "text": [
      "Male Sample:\n",
      "5% Confidence Interval : [ 96.82  99.34]\n",
      "1% Confidence Interval : [ 96.428  99.468]\n",
      "Population Mean P-Value: 0.3076923076923077\n",
      "Female Sample:\n",
      "5% Confidence Interval : [ 96.76  99.94]\n",
      "1% Confidence Interval : [  96.496  100.544]\n",
      "Population Mean P-Value: 0.4461538461538462\n",
      "------------------------------------\n",
      "Women Run Warmer Than Men? P-Value: 0.676923076923077\n",
      "Men Run Warmer Than Women? P-Value: 0.4\n"
     ]
    }
   ],
   "source": [
    "# two sample test between males and females\n",
    "hr_male_sample = df[df['gender'] == 'M']['temperature']\n",
    "hr_female_sample = df[df['gender'] == 'F']['temperature']\n",
    "\n",
    "hr_male_replicates = draw_bs_reps(hr_male_sample, np.mean, size=10000)\n",
    "print('Male Sample:')\n",
    "print('5% Confidence Interval : {}'.format(np.percentile(hr_male_sample, [2.5, 97.5])))\n",
    "print('1% Confidence Interval : {}'.format(np.percentile(hr_male_sample, [0.5, 99.5])))\n",
    "print('Population Mean P-Value: {}'.format((sum(hr_male_sample >= 98.6)/len(hr_male_sample))))\n",
    "\n",
    "hr_male_replicates = draw_bs_reps(hr_female_sample, np.mean, size=10000)\n",
    "print('Female Sample:')\n",
    "print('5% Confidence Interval : {}'.format(np.percentile(hr_female_sample, [2.5, 97.5])))\n",
    "print('1% Confidence Interval : {}'.format(np.percentile(hr_female_sample, [0.5, 99.5])))\n",
    "print('Population Mean P-Value: {}'.format((sum(hr_female_sample >= 98.6)/len(hr_female_sample))))\n",
    "print('------------------------------------')\n",
    "print('Women Run Warmer Than Men? P-Value: {}'.format((sum(hr_female_sample >= np.mean(hr_male_sample))/len(hr_female_sample))))\n",
    "print('Men Run Warmer Than Women? P-Value: {}'.format((sum(hr_male_sample >= np.mean(hr_female_sample))/len(hr_male_sample))))"
   ]
  },
  {
   "cell_type": "markdown",
   "metadata": {},
   "source": [
    "#### Yes, there is significant difference between males and females for normal temperature.\n",
    "\n",
    "This two-sample test demonstrated that females are statistically more likely to run warmer than males.\n",
    "\n",
    "---------\n"
   ]
  },
  {
   "cell_type": "markdown",
   "metadata": {},
   "source": [
    "### Conclusion\n",
    "\n",
    "From the tests conducted in this notebook, we can see that temperature has relationships with both gender and heart rate. Females tend to run warmer. Heart rate has a positive Pearson correlation coefficient with temperature.\n",
    "\n",
    "In addition, we notice that the perceived \"normal\" temperature of 98.6 is not as stable as we might think. For starters, this statistically significant sample size of 130 people had an average temperature far below the proposed norm. When comparing the sample to a \"shifted sample\" based on the 98.6 population mean, we find there is almost no overlap whatsoever (p-value less than 0.01) even when resampling occurs many, many times.\n",
    "\n",
    "#### The Role of Gender\n",
    "\n",
    "Looking at the sample tests by gender in the last step, it is interesting to note how easily the population mean falls into the confidence intervals. \n",
    "\n",
    "Therefore, we can conclude that when factoring gender in the concept of a \"normal\" temperature, such a population summary statistic becomes significantly more plausible. Simply put, a more stable population mean exists for the genders than it does for humans as a whole, since gender effects mean temperature in such a significant way."
   ]
  }
 ],
 "metadata": {
  "kernelspec": {
   "display_name": "Python 3",
   "language": "python",
   "name": "python3"
  },
  "language_info": {
   "codemirror_mode": {
    "name": "ipython",
    "version": 3
   },
   "file_extension": ".py",
   "mimetype": "text/x-python",
   "name": "python",
   "nbconvert_exporter": "python",
   "pygments_lexer": "ipython3",
   "version": "3.6.3"
  }
 },
 "nbformat": 4,
 "nbformat_minor": 1
}
